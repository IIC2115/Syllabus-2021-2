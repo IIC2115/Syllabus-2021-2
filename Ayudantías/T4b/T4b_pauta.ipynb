{
  "nbformat": 4,
  "nbformat_minor": 0,
  "metadata": {
    "colab": {
      "name": "Pauta T4b.ipynb",
      "provenance": []
    },
    "kernelspec": {
      "name": "python3",
      "display_name": "Python 3"
    },
    "language_info": {
      "name": "python"
    }
  },
  "cells": [
    {
      "cell_type": "code",
      "metadata": {
        "colab": {
          "base_uri": "https://localhost:8080/"
        },
        "id": "rPmcbby9V3_2",
        "outputId": "b791e8e7-541b-4c05-ead7-4773753ebeeb"
      },
      "source": [
        "!wget https://raw.githubusercontent.com/IIC2115/Syllabus/main/Talleres/T4b/quakes.csv"
      ],
      "execution_count": null,
      "outputs": [
        {
          "output_type": "stream",
          "name": "stdout",
          "text": [
            "--2021-11-11 18:38:14--  https://raw.githubusercontent.com/IIC2115/Syllabus/main/Talleres/T4b/quakes.csv\n",
            "Resolving raw.githubusercontent.com (raw.githubusercontent.com)... 185.199.109.133, 185.199.110.133, 185.199.111.133, ...\n",
            "Connecting to raw.githubusercontent.com (raw.githubusercontent.com)|185.199.109.133|:443... connected.\n",
            "HTTP request sent, awaiting response... 200 OK\n",
            "Length: 27919 (27K) [text/plain]\n",
            "Saving to: ‘quakes.csv’\n",
            "\n",
            "quakes.csv          100%[===================>]  27.26K  --.-KB/s    in 0.002s  \n",
            "\n",
            "2021-11-11 18:38:15 (12.2 MB/s) - ‘quakes.csv’ saved [27919/27919]\n",
            "\n"
          ]
        }
      ]
    },
    {
      "cell_type": "code",
      "metadata": {
        "id": "3Cus_ss5V8ib"
      },
      "source": [
        "import pandas as pd\n",
        "import numpy as np\n",
        "\n",
        "from sklearn.model_selection import train_test_split\n",
        "from sklearn.preprocessing import StandardScaler"
      ],
      "execution_count": null,
      "outputs": []
    },
    {
      "cell_type": "code",
      "metadata": {
        "colab": {
          "base_uri": "https://localhost:8080/"
        },
        "id": "FCbzU1SYWPhR",
        "outputId": "be123ffd-b081-44a3-cbb7-37768ac2b3f8"
      },
      "source": [
        "quakes = pd.read_csv(\"quakes.csv\")\n",
        "quakes.info()"
      ],
      "execution_count": null,
      "outputs": [
        {
          "output_type": "stream",
          "name": "stdout",
          "text": [
            "<class 'pandas.core.frame.DataFrame'>\n",
            "RangeIndex: 1000 entries, 0 to 999\n",
            "Data columns (total 6 columns):\n",
            " #   Column    Non-Null Count  Dtype  \n",
            "---  ------    --------------  -----  \n",
            " 0   ID        1000 non-null   int64  \n",
            " 1   Lat       999 non-null    float64\n",
            " 2   Long      995 non-null    float64\n",
            " 3   Depth     996 non-null    float64\n",
            " 4   Mag       996 non-null    float64\n",
            " 5   Stations  987 non-null    float64\n",
            "dtypes: float64(5), int64(1)\n",
            "memory usage: 47.0 KB\n"
          ]
        }
      ]
    },
    {
      "cell_type": "code",
      "metadata": {
        "colab": {
          "base_uri": "https://localhost:8080/",
          "height": 206
        },
        "id": "aMtsRz5AYZjS",
        "outputId": "53f7588c-3c69-4d01-bda0-46e607d16f51"
      },
      "source": [
        "quakes.head()"
      ],
      "execution_count": null,
      "outputs": [
        {
          "output_type": "execute_result",
          "data": {
            "text/html": [
              "<div>\n",
              "<style scoped>\n",
              "    .dataframe tbody tr th:only-of-type {\n",
              "        vertical-align: middle;\n",
              "    }\n",
              "\n",
              "    .dataframe tbody tr th {\n",
              "        vertical-align: top;\n",
              "    }\n",
              "\n",
              "    .dataframe thead th {\n",
              "        text-align: right;\n",
              "    }\n",
              "</style>\n",
              "<table border=\"1\" class=\"dataframe\">\n",
              "  <thead>\n",
              "    <tr style=\"text-align: right;\">\n",
              "      <th></th>\n",
              "      <th>ID</th>\n",
              "      <th>Lat</th>\n",
              "      <th>Long</th>\n",
              "      <th>Depth</th>\n",
              "      <th>Mag</th>\n",
              "      <th>Stations</th>\n",
              "    </tr>\n",
              "  </thead>\n",
              "  <tbody>\n",
              "    <tr>\n",
              "      <th>0</th>\n",
              "      <td>1</td>\n",
              "      <td>-20.42</td>\n",
              "      <td>181.62</td>\n",
              "      <td>562.0</td>\n",
              "      <td>4.8</td>\n",
              "      <td>41.0</td>\n",
              "    </tr>\n",
              "    <tr>\n",
              "      <th>1</th>\n",
              "      <td>2</td>\n",
              "      <td>-20.62</td>\n",
              "      <td>181.03</td>\n",
              "      <td>650.0</td>\n",
              "      <td>4.2</td>\n",
              "      <td>15.0</td>\n",
              "    </tr>\n",
              "    <tr>\n",
              "      <th>2</th>\n",
              "      <td>3</td>\n",
              "      <td>-26.00</td>\n",
              "      <td>184.10</td>\n",
              "      <td>42.0</td>\n",
              "      <td>5.4</td>\n",
              "      <td>43.0</td>\n",
              "    </tr>\n",
              "    <tr>\n",
              "      <th>3</th>\n",
              "      <td>4</td>\n",
              "      <td>-17.97</td>\n",
              "      <td>181.66</td>\n",
              "      <td>626.0</td>\n",
              "      <td>4.1</td>\n",
              "      <td>19.0</td>\n",
              "    </tr>\n",
              "    <tr>\n",
              "      <th>4</th>\n",
              "      <td>5</td>\n",
              "      <td>-20.42</td>\n",
              "      <td>181.96</td>\n",
              "      <td>649.0</td>\n",
              "      <td>4.0</td>\n",
              "      <td>11.0</td>\n",
              "    </tr>\n",
              "  </tbody>\n",
              "</table>\n",
              "</div>"
            ],
            "text/plain": [
              "   ID    Lat    Long  Depth  Mag  Stations\n",
              "0   1 -20.42  181.62  562.0  4.8      41.0\n",
              "1   2 -20.62  181.03  650.0  4.2      15.0\n",
              "2   3 -26.00  184.10   42.0  5.4      43.0\n",
              "3   4 -17.97  181.66  626.0  4.1      19.0\n",
              "4   5 -20.42  181.96  649.0  4.0      11.0"
            ]
          },
          "metadata": {},
          "execution_count": 4
        }
      ]
    },
    {
      "cell_type": "code",
      "metadata": {
        "id": "Efmdq-HCZJy3"
      },
      "source": [
        "features = [\"Lat\", \"Long\", \"Depth\", \"Stations\"]\n",
        "target = \"Mag\""
      ],
      "execution_count": null,
      "outputs": []
    },
    {
      "cell_type": "code",
      "metadata": {
        "id": "yGzXnC8sbcC5"
      },
      "source": [
        "quakes_no_nan = quakes.dropna()"
      ],
      "execution_count": null,
      "outputs": []
    },
    {
      "cell_type": "code",
      "metadata": {
        "id": "6FCKnRL7WgSC"
      },
      "source": [
        "train, test = train_test_split(quakes_no_nan, test_size=0.3)\n",
        "x_train, y_train = train[features], train[target]\n",
        "x_test, y_test = test[features], test[target]"
      ],
      "execution_count": null,
      "outputs": []
    },
    {
      "cell_type": "code",
      "metadata": {
        "colab": {
          "base_uri": "https://localhost:8080/"
        },
        "id": "D4-jWHfuXXUd",
        "outputId": "8a16865c-4103-4a41-c0e9-11cf60bc3fdd"
      },
      "source": [
        "scaler = StandardScaler()\n",
        "\n",
        "x_train = scaler.fit_transform(x_train)\n",
        "x_test = scaler.transform(x_test)\n",
        "\n",
        "x_train"
      ],
      "execution_count": null,
      "outputs": [
        {
          "output_type": "execute_result",
          "data": {
            "text/plain": [
              "array([[ 0.34294754,  0.48477001,  0.77954496, -0.64311691],\n",
              "       [-0.51920562,  0.10807771,  0.98020613, -0.55352347],\n",
              "       [-0.24425928,  0.13692352,  1.38152846, -0.31460762],\n",
              "       ...,\n",
              "       [-0.3404905 , -1.13398877, -1.19440094,  0.99942955],\n",
              "       [-2.22583683,  0.05208291,  0.44822071, -0.55352347],\n",
              "       [-0.48778318,  0.74777589, -0.68108168,  0.37227545]])"
            ]
          },
          "metadata": {},
          "execution_count": 9
        }
      ]
    },
    {
      "cell_type": "code",
      "metadata": {
        "id": "H_WLpXbdb_q8"
      },
      "source": [
        "from sklearn import metrics\n",
        "\n",
        "def training_and_eval(model, x_train, y_train, x_test, y_test, transform=None):\n",
        "    model.fit(x_train, y_train)\n",
        "\n",
        "    train_pred = model.predict(x_train)\n",
        "    test_pred = model.predict(x_test)\n",
        "    \n",
        "    if transform is not None:\n",
        "        train_pred = transform(train_pred)\n",
        "        test_pred = transform(test_pred)\n",
        "\n",
        "    train_mse = metrics.mean_squared_error(y_train, train_pred)\n",
        "    test_mse = metrics.mean_squared_error(y_test, test_pred)\n",
        "    print(f\"Train MSE: {train_mse:.2f}\\nTest MSE: {test_mse:.2f}\")"
      ],
      "execution_count": null,
      "outputs": []
    },
    {
      "cell_type": "markdown",
      "metadata": {
        "id": "xjnMtDmqb4DQ"
      },
      "source": [
        "# Misión 1"
      ]
    },
    {
      "cell_type": "code",
      "metadata": {
        "colab": {
          "base_uri": "https://localhost:8080/"
        },
        "id": "OQu9fhjaZnNT",
        "outputId": "614103eb-9de2-40dd-eece-06f4d334a56f"
      },
      "source": [
        "from sklearn.linear_model import LinearRegression\n",
        "\n",
        "lr_model = LinearRegression()\n",
        "training_and_eval(lr_model, x_train, y_train, x_test, y_test)"
      ],
      "execution_count": null,
      "outputs": [
        {
          "output_type": "stream",
          "name": "stdout",
          "text": [
            "Train MSE: 155.58\n",
            "Test MSE: 123.50\n"
          ]
        }
      ]
    },
    {
      "cell_type": "code",
      "metadata": {
        "colab": {
          "base_uri": "https://localhost:8080/"
        },
        "id": "3lpYYM11c-RM",
        "outputId": "472523d7-6ac1-4f76-c4d3-81bb6ad56173"
      },
      "source": [
        "from sklearn.tree import DecisionTreeRegressor\n",
        "\n",
        "dtr_model = DecisionTreeRegressor()\n",
        "training_and_eval(dtr_model, x_train, y_train, x_test, y_test)"
      ],
      "execution_count": null,
      "outputs": [
        {
          "output_type": "stream",
          "name": "stdout",
          "text": [
            "Train MSE: 0.00\n",
            "Test MSE: 309.10\n"
          ]
        }
      ]
    },
    {
      "cell_type": "code",
      "metadata": {
        "colab": {
          "base_uri": "https://localhost:8080/"
        },
        "id": "lwS5cjZteSOc",
        "outputId": "0beb6d69-1d51-4294-90cf-442eba715d1e"
      },
      "source": [
        "from sklearn.ensemble import RandomForestRegressor\n",
        "\n",
        "rfr_model = RandomForestRegressor()\n",
        "training_and_eval(rfr_model, x_train, y_train, x_test, y_test)"
      ],
      "execution_count": null,
      "outputs": [
        {
          "output_type": "stream",
          "name": "stdout",
          "text": [
            "Train MSE: 24.48\n",
            "Test MSE: 150.76\n"
          ]
        }
      ]
    },
    {
      "cell_type": "code",
      "metadata": {
        "colab": {
          "base_uri": "https://localhost:8080/"
        },
        "id": "17QAVFVBem1r",
        "outputId": "3d0396d9-765f-4891-8898-c38ffcdfcedd"
      },
      "source": [
        "from sklearn.neural_network import MLPRegressor\n",
        "\n",
        "nn_model = MLPRegressor()\n",
        "training_and_eval(nn_model, x_train, y_train, x_test, y_test)"
      ],
      "execution_count": null,
      "outputs": [
        {
          "output_type": "stream",
          "name": "stdout",
          "text": [
            "Train MSE: 152.98\n",
            "Test MSE: 124.07\n"
          ]
        },
        {
          "output_type": "stream",
          "name": "stderr",
          "text": [
            "/usr/local/lib/python3.7/dist-packages/sklearn/neural_network/_multilayer_perceptron.py:571: ConvergenceWarning: Stochastic Optimizer: Maximum iterations (200) reached and the optimization hasn't converged yet.\n",
            "  % self.max_iter, ConvergenceWarning)\n"
          ]
        }
      ]
    },
    {
      "cell_type": "code",
      "metadata": {
        "colab": {
          "base_uri": "https://localhost:8080/",
          "height": 175
        },
        "id": "DFyZpBXuiyYY",
        "outputId": "7a15dc60-0db7-4e81-b41c-3b1e06e05e8b"
      },
      "source": [
        "quakes_to_fill = quakes.dropna(subset=features)\n",
        "quakes_to_fill = quakes_to_fill[quakes_to_fill[\"Mag\"].isna()]\n",
        "quakes_to_fill"
      ],
      "execution_count": null,
      "outputs": [
        {
          "output_type": "execute_result",
          "data": {
            "text/html": [
              "<div>\n",
              "<style scoped>\n",
              "    .dataframe tbody tr th:only-of-type {\n",
              "        vertical-align: middle;\n",
              "    }\n",
              "\n",
              "    .dataframe tbody tr th {\n",
              "        vertical-align: top;\n",
              "    }\n",
              "\n",
              "    .dataframe thead th {\n",
              "        text-align: right;\n",
              "    }\n",
              "</style>\n",
              "<table border=\"1\" class=\"dataframe\">\n",
              "  <thead>\n",
              "    <tr style=\"text-align: right;\">\n",
              "      <th></th>\n",
              "      <th>ID</th>\n",
              "      <th>Lat</th>\n",
              "      <th>Long</th>\n",
              "      <th>Depth</th>\n",
              "      <th>Mag</th>\n",
              "      <th>Stations</th>\n",
              "    </tr>\n",
              "  </thead>\n",
              "  <tbody>\n",
              "    <tr>\n",
              "      <th>834</th>\n",
              "      <td>835</td>\n",
              "      <td>-19.40</td>\n",
              "      <td>182.29</td>\n",
              "      <td>326.0</td>\n",
              "      <td>NaN</td>\n",
              "      <td>15.0</td>\n",
              "    </tr>\n",
              "    <tr>\n",
              "      <th>862</th>\n",
              "      <td>863</td>\n",
              "      <td>-17.93</td>\n",
              "      <td>181.89</td>\n",
              "      <td>567.0</td>\n",
              "      <td>NaN</td>\n",
              "      <td>27.0</td>\n",
              "    </tr>\n",
              "    <tr>\n",
              "      <th>912</th>\n",
              "      <td>913</td>\n",
              "      <td>-15.28</td>\n",
              "      <td>185.98</td>\n",
              "      <td>162.0</td>\n",
              "      <td>NaN</td>\n",
              "      <td>36.0</td>\n",
              "    </tr>\n",
              "    <tr>\n",
              "      <th>957</th>\n",
              "      <td>958</td>\n",
              "      <td>-20.88</td>\n",
              "      <td>184.95</td>\n",
              "      <td>82.0</td>\n",
              "      <td>NaN</td>\n",
              "      <td>50.0</td>\n",
              "    </tr>\n",
              "  </tbody>\n",
              "</table>\n",
              "</div>"
            ],
            "text/plain": [
              "      ID    Lat    Long  Depth  Mag  Stations\n",
              "834  835 -19.40  182.29  326.0  NaN      15.0\n",
              "862  863 -17.93  181.89  567.0  NaN      27.0\n",
              "912  913 -15.28  185.98  162.0  NaN      36.0\n",
              "957  958 -20.88  184.95   82.0  NaN      50.0"
            ]
          },
          "metadata": {},
          "execution_count": 14
        }
      ]
    },
    {
      "cell_type": "code",
      "metadata": {
        "id": "m4DhF2jckmfk"
      },
      "source": [
        "x_to_fill = scaler.transform(quakes_to_fill[features])"
      ],
      "execution_count": null,
      "outputs": []
    },
    {
      "cell_type": "code",
      "metadata": {
        "colab": {
          "base_uri": "https://localhost:8080/"
        },
        "id": "-huxww-7kxmT",
        "outputId": "813e8060-c502-4e35-ab3d-b2fbd6f0c7f4"
      },
      "source": [
        "lr_model.predict(x_to_fill)"
      ],
      "execution_count": null,
      "outputs": [
        {
          "output_type": "execute_result",
          "data": {
            "text/plain": [
              "array([6.23330811, 5.66401183, 4.72404621, 6.17979082])"
            ]
          },
          "metadata": {},
          "execution_count": 16
        }
      ]
    },
    {
      "cell_type": "markdown",
      "metadata": {
        "id": "HDvmlJdPmb1A"
      },
      "source": [
        "# Misión 2"
      ]
    },
    {
      "cell_type": "code",
      "metadata": {
        "id": "1lrmjFgimOeI"
      },
      "source": [
        "y_train_log = np.log(y_train)\n",
        "y_test_log = np.log(y_test)"
      ],
      "execution_count": null,
      "outputs": []
    },
    {
      "cell_type": "code",
      "metadata": {
        "colab": {
          "base_uri": "https://localhost:8080/"
        },
        "id": "xsEjaA_AnPm-",
        "outputId": "0e9e2303-4684-4c1e-e19d-4fe9eca34475"
      },
      "source": [
        "from sklearn.linear_model import LinearRegression\n",
        "\n",
        "lr_model = LinearRegression()\n",
        "training_and_eval(lr_model, x_train, y_train_log, x_test, y_test_log, transform=np.exp)"
      ],
      "execution_count": null,
      "outputs": [
        {
          "output_type": "stream",
          "name": "stdout",
          "text": [
            "Train MSE: 12.54\n",
            "Test MSE: 12.57\n"
          ]
        }
      ]
    },
    {
      "cell_type": "code",
      "metadata": {
        "colab": {
          "base_uri": "https://localhost:8080/"
        },
        "id": "mYestw0enPnF",
        "outputId": "81523730-4e9e-4db9-b185-806a047fcd83"
      },
      "source": [
        "from sklearn.tree import DecisionTreeRegressor\n",
        "\n",
        "dtr_model = DecisionTreeRegressor()\n",
        "training_and_eval(dtr_model, x_train, y_train_log, x_test, y_test_log, transform=np.exp)"
      ],
      "execution_count": null,
      "outputs": [
        {
          "output_type": "stream",
          "name": "stdout",
          "text": [
            "Train MSE: 174.41\n",
            "Test MSE: 183.51\n"
          ]
        }
      ]
    },
    {
      "cell_type": "code",
      "metadata": {
        "colab": {
          "base_uri": "https://localhost:8080/"
        },
        "id": "61MlrxcSnPnG",
        "outputId": "993ec795-6a45-4d0f-b2d4-8d42cf9822a8"
      },
      "source": [
        "from sklearn.ensemble import RandomForestRegressor\n",
        "\n",
        "rfr_model = RandomForestRegressor()\n",
        "training_and_eval(rfr_model, x_train, y_train_log, x_test, y_test_log, transform=np.exp)"
      ],
      "execution_count": null,
      "outputs": [
        {
          "output_type": "stream",
          "name": "stdout",
          "text": [
            "Train MSE: 33.62\n",
            "Test MSE: 21.49\n"
          ]
        }
      ]
    },
    {
      "cell_type": "code",
      "metadata": {
        "colab": {
          "base_uri": "https://localhost:8080/"
        },
        "id": "Ml5t6H5GnPnG",
        "outputId": "928724c1-3dde-4e23-9ef3-2c34261f73ef"
      },
      "source": [
        "from sklearn.neural_network import MLPRegressor\n",
        "\n",
        "nn_model = MLPRegressor()\n",
        "training_and_eval(nn_model, x_train, y_train_log, x_test, y_test_log, transform=np.exp)"
      ],
      "execution_count": null,
      "outputs": [
        {
          "output_type": "stream",
          "name": "stdout",
          "text": [
            "Train MSE: 12.69\n",
            "Test MSE: 12.69\n"
          ]
        },
        {
          "output_type": "stream",
          "name": "stderr",
          "text": [
            "/usr/local/lib/python3.7/dist-packages/sklearn/neural_network/_multilayer_perceptron.py:571: ConvergenceWarning: Stochastic Optimizer: Maximum iterations (200) reached and the optimization hasn't converged yet.\n",
            "  % self.max_iter, ConvergenceWarning)\n"
          ]
        }
      ]
    },
    {
      "cell_type": "code",
      "metadata": {
        "colab": {
          "base_uri": "https://localhost:8080/"
        },
        "id": "4njD0SI3nble",
        "outputId": "bdf8d067-8557-45f0-ba27-a067a8ca8e54"
      },
      "source": [
        "np.exp(lr_model.predict(x_to_fill))"
      ],
      "execution_count": null,
      "outputs": [
        {
          "output_type": "execute_result",
          "data": {
            "text/plain": [
              "array([4.80017703, 4.66168504, 4.61459619, 5.0172072 ])"
            ]
          },
          "metadata": {},
          "execution_count": 22
        }
      ]
    },
    {
      "cell_type": "markdown",
      "metadata": {
        "id": "yc-7SWCnw0C7"
      },
      "source": [
        "\n",
        "\n",
        "1.   El rendimiento medido en MSE baja considerablemente con respecto a la misión anterior lo que nos indica que la presencia de outliers estaba afectando mucho al modelo.\n",
        "2.   La transformación logaritmica reduce la escala de la variable y hace que los datos se compriman.\n",
        "3.   Puede ser util para acercar outliers al resto de los datos.\n",
        "\n"
      ]
    },
    {
      "cell_type": "markdown",
      "metadata": {
        "id": "7d6krcmZpcR1"
      },
      "source": [
        "# Mision 3"
      ]
    },
    {
      "cell_type": "code",
      "metadata": {
        "colab": {
          "base_uri": "https://localhost:8080/",
          "height": 449
        },
        "id": "9UQ9oRiSnnqO",
        "outputId": "59b335ac-548e-43b5-dfb6-d1bd7bea48fd"
      },
      "source": [
        "import matplotlib.pyplot as plt\n",
        "\n",
        "fig, axes = plt.subplots(1, 2, dpi=125, figsize=(10, 4))\n",
        "\n",
        "axes[0].boxplot(y_train)\n",
        "axes[1].hist(y_train)\n",
        "\n",
        "plt.show()"
      ],
      "execution_count": null,
      "outputs": [
        {
          "output_type": "display_data",
          "data": {
            "image/png": "[encoded data removed]",
            "text/plain": [
              "<Figure size 1250x500 with 2 Axes>"
            ]
          },
          "metadata": {
            "needs_background": "light"
          }
        }
      ]
    },
    {
      "cell_type": "code",
      "metadata": {
        "id": "P1qI57pColVn"
      },
      "source": [
        "train_mask = y_train < 20\n",
        "test_mask = y_test < 20\n",
        "\n",
        "x_train_no_outlier = x_train[train_mask]\n",
        "y_train_no_outlier = y_train[train_mask]\n",
        "\n",
        "x_test_no_outlier = x_test[test_mask]\n",
        "y_test_no_outlier = y_test[test_mask]"
      ],
      "execution_count": null,
      "outputs": []
    },
    {
      "cell_type": "code",
      "metadata": {
        "colab": {
          "base_uri": "https://localhost:8080/"
        },
        "id": "NVLunILirrx9",
        "outputId": "faf44979-2445-4974-e52c-535391d5357e"
      },
      "source": [
        "from sklearn.linear_model import LinearRegression\n",
        "\n",
        "lr_model = LinearRegression()\n",
        "training_and_eval(lr_model, x_train_no_outlier, y_train_no_outlier, x_test_no_outlier, y_test_no_outlier)"
      ],
      "execution_count": null,
      "outputs": [
        {
          "output_type": "stream",
          "name": "stdout",
          "text": [
            "Train MSE: 0.11\n",
            "Test MSE: 0.10\n"
          ]
        }
      ]
    },
    {
      "cell_type": "code",
      "metadata": {
        "colab": {
          "base_uri": "https://localhost:8080/"
        },
        "id": "O4XuO1hlrrx_",
        "outputId": "b9798336-52db-4f4a-a370-c74c8a6ab59b"
      },
      "source": [
        "from sklearn.tree import DecisionTreeRegressor\n",
        "\n",
        "dtr_model = DecisionTreeRegressor()\n",
        "training_and_eval(dtr_model, x_train_no_outlier, y_train_no_outlier, x_test_no_outlier, y_test_no_outlier)"
      ],
      "execution_count": null,
      "outputs": [
        {
          "output_type": "stream",
          "name": "stdout",
          "text": [
            "Train MSE: 0.00\n",
            "Test MSE: 0.07\n"
          ]
        }
      ]
    },
    {
      "cell_type": "code",
      "metadata": {
        "colab": {
          "base_uri": "https://localhost:8080/"
        },
        "id": "i0pvqmHZrryA",
        "outputId": "6f0456b1-ab89-4ec8-fc4c-8c31a972658d"
      },
      "source": [
        "from sklearn.ensemble import RandomForestRegressor\n",
        "\n",
        "rfr_model = RandomForestRegressor()\n",
        "training_and_eval(rfr_model, x_train_no_outlier, y_train_no_outlier, x_test_no_outlier, y_test_no_outlier)"
      ],
      "execution_count": null,
      "outputs": [
        {
          "output_type": "stream",
          "name": "stdout",
          "text": [
            "Train MSE: 0.01\n",
            "Test MSE: 0.04\n"
          ]
        }
      ]
    },
    {
      "cell_type": "code",
      "metadata": {
        "colab": {
          "base_uri": "https://localhost:8080/"
        },
        "id": "eICHEWE-rryC",
        "outputId": "8066d491-2e26-4cd3-b3d3-8a791b0058f2"
      },
      "source": [
        "from sklearn.neural_network import MLPRegressor\n",
        "\n",
        "nn_model = MLPRegressor()\n",
        "training_and_eval(nn_model, x_train_no_outlier, y_train_no_outlier, x_test_no_outlier, y_test_no_outlier)"
      ],
      "execution_count": null,
      "outputs": [
        {
          "output_type": "stream",
          "name": "stdout",
          "text": [
            "Train MSE: 0.13\n",
            "Test MSE: 0.12\n"
          ]
        },
        {
          "output_type": "stream",
          "name": "stderr",
          "text": [
            "/usr/local/lib/python3.7/dist-packages/sklearn/neural_network/_multilayer_perceptron.py:571: ConvergenceWarning: Stochastic Optimizer: Maximum iterations (200) reached and the optimization hasn't converged yet.\n",
            "  % self.max_iter, ConvergenceWarning)\n"
          ]
        }
      ]
    },
    {
      "cell_type": "code",
      "metadata": {
        "colab": {
          "base_uri": "https://localhost:8080/"
        },
        "id": "uW7d7_BSr9HO",
        "outputId": "177d18a2-e532-4c62-cf0d-394c5659ed97"
      },
      "source": [
        "lr_model.predict(x_to_fill)"
      ],
      "execution_count": null,
      "outputs": [
        {
          "output_type": "execute_result",
          "data": {
            "text/plain": [
              "array([4.43268052, 4.39830579, 4.54969848, 4.73748372])"
            ]
          },
          "metadata": {},
          "execution_count": 29
        }
      ]
    },
    {
      "cell_type": "markdown",
      "metadata": {
        "id": "JDEAEEouyNij"
      },
      "source": [
        "\n",
        "\n",
        "1.   El rendimiento disminuye aun más que en la misión 2 lo que reafirma que la presencia de outliers perjudica a los modelos.\n",
        "2.   A diferencia de la transformación logistica, en este caso estamos descartando los datos mientras que en la transformacion los mantenemos.\n",
        "\n"
      ]
    },
    {
      "cell_type": "markdown",
      "metadata": {
        "id": "1vLh5Y4KuoPM"
      },
      "source": [
        "# Misión 4"
      ]
    },
    {
      "cell_type": "code",
      "metadata": {
        "colab": {
          "base_uri": "https://localhost:8080/"
        },
        "id": "_eO07xahsVog",
        "outputId": "3d643936-466c-4915-f3f5-0eff646512a5"
      },
      "source": [
        "for depth in range(1, 11):\n",
        "    print(\"Depth\", depth)\n",
        "    dtr_model = DecisionTreeRegressor(max_depth=depth)\n",
        "    training_and_eval(dtr_model, x_train_no_outlier, y_train_no_outlier, x_test_no_outlier, y_test_no_outlier)\n",
        "    print()"
      ],
      "execution_count": null,
      "outputs": [
        {
          "output_type": "stream",
          "name": "stdout",
          "text": [
            "Depth 1\n",
            "Train MSE: 0.09\n",
            "Test MSE: 0.08\n",
            "\n",
            "Depth 2\n",
            "Train MSE: 0.07\n",
            "Test MSE: 0.07\n",
            "\n",
            "Depth 3\n",
            "Train MSE: 0.05\n",
            "Test MSE: 0.05\n",
            "\n",
            "Depth 4\n",
            "Train MSE: 0.04\n",
            "Test MSE: 0.05\n",
            "\n",
            "Depth 5\n",
            "Train MSE: 0.03\n",
            "Test MSE: 0.05\n",
            "\n",
            "Depth 6\n",
            "Train MSE: 0.03\n",
            "Test MSE: 0.04\n",
            "\n",
            "Depth 7\n",
            "Train MSE: 0.02\n",
            "Test MSE: 0.05\n",
            "\n",
            "Depth 8\n",
            "Train MSE: 0.01\n",
            "Test MSE: 0.05\n",
            "\n",
            "Depth 9\n",
            "Train MSE: 0.01\n",
            "Test MSE: 0.06\n",
            "\n",
            "Depth 10\n",
            "Train MSE: 0.01\n",
            "Test MSE: 0.06\n",
            "\n"
          ]
        }
      ]
    },
    {
      "cell_type": "markdown",
      "metadata": {
        "id": "cX7n525qz2n8"
      },
      "source": [
        "Como era de esperarse a medida que aumenta la profundidad del árbol, el modelo *overfitea* a set de entrenamiento. El mejor MSE es con profunidad igual a 1 y de hecho le gana a la regresión logística que encontramos antes."
      ]
    }
  ]
}